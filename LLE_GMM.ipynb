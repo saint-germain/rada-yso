{
 "cells": [
  {
   "cell_type": "code",
   "execution_count": 2,
   "metadata": {},
   "outputs": [],
   "source": [
    "import numpy as np\n",
    "import pandas as pd\n",
    "import matplotlib.pyplot as plt\n",
    "%matplotlib inline\n",
    "from sklearn.decomposition import PCA\n",
    "import seaborn as sns"
   ]
  },
  {
   "cell_type": "code",
   "execution_count": 3,
   "metadata": {
    "collapsed": true
   },
   "outputs": [],
   "source": [
    "data=pd.read_csv('clean.csv',delimiter=';')"
   ]
  },
  {
   "cell_type": "code",
   "execution_count": 4,
   "metadata": {
    "collapsed": true
   },
   "outputs": [],
   "source": [
    "data['ngas']=[float(i[:4]+'e'+i[-2:]) for i in data.Ngas] \n",
    "data['T_CH3OH']=[float(i[:6]) for i in data['T(CH3OH)']]\n",
    "data['N_CH3OH']=[float(i[:5]) for i in data['N(CH3OH)']]\n",
    "data['T_CH3CCH']=[float(i[:5]) for i in data['T(CH3CCH)']]\n",
    "data['N_CH3CCH']=[float(i[:4]) for i in data['N(CH3CCH)']]\n",
    "data['T_CH3CN']=[float(i[:5]) for i in data['T(CH3CN)']]\n",
    "data['N_CH3CN']=[float(i[:4]) for i in data['N(CH3CN)']]"
   ]
  },
  {
   "cell_type": "code",
   "execution_count": 7,
   "metadata": {
    "collapsed": true
   },
   "outputs": [],
   "source": [
    "selec=data[['Temp', 'Mgas',\n",
    "        'ngas', 'T_CH3OH', 'N_CH3OH', 'T_CH3CCH', 'N_CH3CCH',\n",
    "       'T_CH3CN', 'N_CH3CN']]"
   ]
  },
  {
   "cell_type": "markdown",
   "metadata": {},
   "source": [
    "# MinMax + LLE + GMM"
   ]
  },
  {
   "cell_type": "code",
   "execution_count": 8,
   "metadata": {},
   "outputs": [
    {
     "name": "stdout",
     "output_type": "stream",
     "text": [
      "Scaled Dataset Using MinMaxScaler\n"
     ]
    },
    {
     "data": {
      "text/html": [
       "<div>\n",
       "<style scoped>\n",
       "    .dataframe tbody tr th:only-of-type {\n",
       "        vertical-align: middle;\n",
       "    }\n",
       "\n",
       "    .dataframe tbody tr th {\n",
       "        vertical-align: top;\n",
       "    }\n",
       "\n",
       "    .dataframe thead th {\n",
       "        text-align: right;\n",
       "    }\n",
       "</style>\n",
       "<table border=\"1\" class=\"dataframe\">\n",
       "  <thead>\n",
       "    <tr style=\"text-align: right;\">\n",
       "      <th></th>\n",
       "      <th>Temp</th>\n",
       "      <th>Mgas</th>\n",
       "      <th>ngas</th>\n",
       "      <th>T_CH3OH</th>\n",
       "      <th>N_CH3OH</th>\n",
       "      <th>T_CH3CCH</th>\n",
       "      <th>N_CH3CCH</th>\n",
       "      <th>T_CH3CN</th>\n",
       "      <th>N_CH3CN</th>\n",
       "    </tr>\n",
       "  </thead>\n",
       "  <tbody>\n",
       "    <tr>\n",
       "      <th>0</th>\n",
       "      <td>1.000000</td>\n",
       "      <td>0.134799</td>\n",
       "      <td>0.071797</td>\n",
       "      <td>0.685714</td>\n",
       "      <td>0.229946</td>\n",
       "      <td>0.333333</td>\n",
       "      <td>0.441176</td>\n",
       "      <td>1.000000</td>\n",
       "      <td>1.000000</td>\n",
       "    </tr>\n",
       "    <tr>\n",
       "      <th>1</th>\n",
       "      <td>0.387755</td>\n",
       "      <td>0.039139</td>\n",
       "      <td>0.074886</td>\n",
       "      <td>0.400000</td>\n",
       "      <td>0.004730</td>\n",
       "      <td>0.333333</td>\n",
       "      <td>0.014706</td>\n",
       "      <td>0.387755</td>\n",
       "      <td>0.009091</td>\n",
       "    </tr>\n",
       "    <tr>\n",
       "      <th>2</th>\n",
       "      <td>0.693878</td>\n",
       "      <td>0.129191</td>\n",
       "      <td>0.056971</td>\n",
       "      <td>0.600000</td>\n",
       "      <td>0.279950</td>\n",
       "      <td>0.444444</td>\n",
       "      <td>0.191176</td>\n",
       "      <td>0.693878</td>\n",
       "      <td>0.100000</td>\n",
       "    </tr>\n",
       "    <tr>\n",
       "      <th>3</th>\n",
       "      <td>0.530612</td>\n",
       "      <td>0.088931</td>\n",
       "      <td>0.032878</td>\n",
       "      <td>0.542857</td>\n",
       "      <td>0.009931</td>\n",
       "      <td>0.555556</td>\n",
       "      <td>0.117647</td>\n",
       "      <td>0.530612</td>\n",
       "      <td>0.022727</td>\n",
       "    </tr>\n",
       "    <tr>\n",
       "      <th>4</th>\n",
       "      <td>0.387755</td>\n",
       "      <td>0.157116</td>\n",
       "      <td>0.058515</td>\n",
       "      <td>1.000000</td>\n",
       "      <td>0.039933</td>\n",
       "      <td>0.222222</td>\n",
       "      <td>0.250000</td>\n",
       "      <td>0.387755</td>\n",
       "      <td>0.045455</td>\n",
       "    </tr>\n",
       "  </tbody>\n",
       "</table>\n",
       "</div>"
      ],
      "text/plain": [
       "       Temp      Mgas      ngas   T_CH3OH   N_CH3OH  T_CH3CCH  N_CH3CCH  \\\n",
       "0  1.000000  0.134799  0.071797  0.685714  0.229946  0.333333  0.441176   \n",
       "1  0.387755  0.039139  0.074886  0.400000  0.004730  0.333333  0.014706   \n",
       "2  0.693878  0.129191  0.056971  0.600000  0.279950  0.444444  0.191176   \n",
       "3  0.530612  0.088931  0.032878  0.542857  0.009931  0.555556  0.117647   \n",
       "4  0.387755  0.157116  0.058515  1.000000  0.039933  0.222222  0.250000   \n",
       "\n",
       "    T_CH3CN   N_CH3CN  \n",
       "0  1.000000  1.000000  \n",
       "1  0.387755  0.009091  \n",
       "2  0.693878  0.100000  \n",
       "3  0.530612  0.022727  \n",
       "4  0.387755  0.045455  "
      ]
     },
     "execution_count": 8,
     "metadata": {},
     "output_type": "execute_result"
    }
   ],
   "source": [
    "from sklearn.preprocessing import MinMaxScaler\n",
    "  \n",
    "scaler = MinMaxScaler()\n",
    " \n",
    "df_scaled = scaler.fit_transform(selec.to_numpy())\n",
    "df_scaled = pd.DataFrame(df_scaled, columns=['Temp', 'Mgas',\n",
    "        'ngas', 'T_CH3OH', 'N_CH3OH', 'T_CH3CCH', 'N_CH3CCH',\n",
    "       'T_CH3CN', 'N_CH3CN'])\n",
    " \n",
    "print(\"Scaled Dataset Using MinMaxScaler\")\n",
    "df_scaled.head()"
   ]
  },
  {
   "cell_type": "code",
   "execution_count": 9,
   "metadata": {},
   "outputs": [
    {
     "data": {
      "text/plain": [
       "<matplotlib.colorbar.Colorbar at 0x7ff60fbbe160>"
      ]
     },
     "execution_count": 9,
     "metadata": {},
     "output_type": "execute_result"
    },
    {
     "data": {
      "image/png": "[encoded data removed]",
      "text/plain": [
       "<Figure size 432x288 with 2 Axes>"
      ]
     },
     "metadata": {
      "needs_background": "light"
     },
     "output_type": "display_data"
    }
   ],
   "source": [
    "XS=df_scaled\n",
    "from sklearn.manifold import LocallyLinearEmbedding\n",
    "model = LocallyLinearEmbedding(n_neighbors=20, n_components=2, method='modified',\n",
    "                               eigen_solver='dense')\n",
    "out = model.fit_transform(XS)\n",
    "\n",
    "fig, ax = plt.subplots()\n",
    "im=ax.scatter(out[:, 0], out[:, 1],c=selec.Temp)\n",
    "fig.colorbar(im, ax=ax)\n",
    "#ax.set_ylim(0.15, -0.15);\n",
    "#pretty much the same, PCA preserves info"
   ]
  },
  {
   "cell_type": "code",
   "execution_count": 18,
   "metadata": {},
   "outputs": [
    {
     "data": {
      "text/plain": [
       "<matplotlib.collections.PathCollection at 0x7ff610326940>"
      ]
     },
     "execution_count": 18,
     "metadata": {},
     "output_type": "execute_result"
    },
    {
     "data": {
      "image/png": "[encoded data removed]",
      "text/plain": [
       "<Figure size 432x288 with 1 Axes>"
      ]
     },
     "metadata": {
      "needs_background": "light"
     },
     "output_type": "display_data"
    }
   ],
   "source": [
    "from sklearn.mixture import GaussianMixture as GMM\n",
    "ran=range(2,15)\n",
    "bic=[]\n",
    "for i in ran:\n",
    "    gmm=GMM(i)\n",
    "    gmm.fit(out)\n",
    "    bic+=[gmm.bic(out)]\n",
    "plt.scatter(ran,bic)"
   ]
  },
  {
   "cell_type": "code",
   "execution_count": 19,
   "metadata": {},
   "outputs": [
    {
     "data": {
      "text/plain": [
       "<matplotlib.collections.PathCollection at 0x7ff61047fa90>"
      ]
     },
     "execution_count": 19,
     "metadata": {},
     "output_type": "execute_result"
    },
    {
     "data": {
      "image/png": "[encoded data removed]",
      "text/plain": [
       "<Figure size 432x288 with 1 Axes>"
      ]
     },
     "metadata": {
      "needs_background": "light"
     },
     "output_type": "display_data"
    }
   ],
   "source": [
    "gmm=GMM(3)\n",
    "gmm.fit(out)\n",
    "pred=gmm.predict(out)\n",
    "plt.scatter(out[:, 0], out[:, 1],c=pred)"
   ]
  },
  {
   "cell_type": "code",
   "execution_count": 20,
   "metadata": {},
   "outputs": [
    {
     "data": {
      "text/plain": [
       "<matplotlib.collections.PathCollection at 0x7ff61057e5e0>"
      ]
     },
     "execution_count": 20,
     "metadata": {},
     "output_type": "execute_result"
    },
    {
     "data": {
      "image/png": "[encoded data removed]",
      "text/plain": [
       "<Figure size 432x288 with 1 Axes>"
      ]
     },
     "metadata": {
      "needs_background": "light"
     },
     "output_type": "display_data"
    }
   ],
   "source": [
    "plt.scatter(selec.Temp,selec.T_CH3OH,c=pred)"
   ]
  },
  {
   "cell_type": "code",
   "execution_count": 21,
   "metadata": {},
   "outputs": [
    {
     "name": "stderr",
     "output_type": "stream",
     "text": [
      "<ipython-input-21-1435d503fee9>:1: SettingWithCopyWarning: \n",
      "A value is trying to be set on a copy of a slice from a DataFrame.\n",
      "Try using .loc[row_indexer,col_indexer] = value instead\n",
      "\n",
      "See the caveats in the documentation: https://pandas.pydata.org/pandas-docs/stable/user_guide/indexing.html#returning-a-view-versus-a-copy\n",
      "  selec['Groups']=pred\n"
     ]
    }
   ],
   "source": [
    "selec['Groups']=pred"
   ]
  },
  {
   "cell_type": "code",
   "execution_count": 22,
   "metadata": {},
   "outputs": [
    {
     "name": "stderr",
     "output_type": "stream",
     "text": [
      "<ipython-input-22-3217965c8825>:1: SettingWithCopyWarning: \n",
      "A value is trying to be set on a copy of a slice from a DataFrame.\n",
      "Try using .loc[row_indexer,col_indexer] = value instead\n",
      "\n",
      "See the caveats in the documentation: https://pandas.pydata.org/pandas-docs/stable/user_guide/indexing.html#returning-a-view-versus-a-copy\n",
      "  selec['Sources']=data['Sources']\n"
     ]
    }
   ],
   "source": [
    "selec['Sources']=data['Sources']"
   ]
  },
  {
   "cell_type": "code",
   "execution_count": 25,
   "metadata": {
    "collapsed": true
   },
   "outputs": [],
   "source": [
    "selec.to_csv('LLE_prediction.csv')"
   ]
  },
  {
   "cell_type": "code",
   "execution_count": null,
   "metadata": {
    "collapsed": true
   },
   "outputs": [],
   "source": []
  }
 ],
 "metadata": {
  "kernelspec": {
   "display_name": "pmenv",
   "language": "python",
   "name": "pmenv"
  },
  "language_info": {
   "codemirror_mode": {
    "name": "ipython",
    "version": 3
   },
   "file_extension": ".py",
   "mimetype": "text/x-python",
   "name": "python",
   "nbconvert_exporter": "python",
   "pygments_lexer": "ipython3",
   "version": "3.8.11"
  }
 },
 "nbformat": 4,
 "nbformat_minor": 2
}
